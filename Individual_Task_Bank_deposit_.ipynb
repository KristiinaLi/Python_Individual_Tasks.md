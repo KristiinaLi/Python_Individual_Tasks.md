{
  "nbformat": 4,
  "nbformat_minor": 0,
  "metadata": {
    "colab": {
      "provenance": [],
      "authorship_tag": "ABX9TyP0GBwsmL/jNm4pUnqKGSEE",
      "include_colab_link": true
    },
    "kernelspec": {
      "name": "python3",
      "display_name": "Python 3"
    },
    "language_info": {
      "name": "python"
    }
  },
  "cells": [
    {
      "cell_type": "markdown",
      "metadata": {
        "id": "view-in-github",
        "colab_type": "text"
      },
      "source": [
        "<a href=\"https://colab.research.google.com/github/KristiinaLi/Python_Individual_Tasks.md/blob/main/Individual_Task_Bank_deposit_.ipynb\" target=\"_parent\"><img src=\"https://colab.research.google.com/assets/colab-badge.svg\" alt=\"Open In Colab\"/></a>"
      ]
    },
    {
      "cell_type": "markdown",
      "source": [
        "# Bank deposit challenge\n",
        "\n",
        "### Easy Level\n",
        "**Description:**\n",
        "Create a program where the user can input deposits into a bank account. The program should use `if-else` statements, `input()`, `int()` and while True loop to keep track of deposits.\n",
        "\n",
        "**Instructions:**\n",
        "1. Welcome the user to the bank\n",
        "2. Initiate balance = 0\n",
        "3. Ask the user to input the amount of money they want to deposit.\n",
        "4. Add the deposit amount to the total balance\n",
        "5. Ask the user if they want to make another deposit or exit the bank.\n",
        "6. If they choose to make another deposit, repeat the process (while True).\n",
        "7. If not, print the total amount deposited and exit the bank.\n",
        "\n",
        "### Medium Level\n",
        "**Instructions:**\n",
        "1. Use `try` and `except` to handle non-integer inputs for deposits."
      ],
      "metadata": {
        "id": "FGJxMcqgj-KI"
      }
    },
    {
      "cell_type": "code",
      "source": [
        "#Easy\n",
        "\n",
        "print('Welcome to The Bank')\n",
        "balance =  0\n",
        "\n",
        "while True:\n",
        "  action = input('For making a deposit, write \"deposit\". For exiting The Bank, write \"exit\".')\n",
        "  if action == \"exit\":\n",
        "    print('Thank you. Session completed. See you next time.')\n",
        "    break\n",
        "  elif action == \"deposit\":\n",
        "    deposit = int(input('What is the amount of your deposit? '))\n",
        "    balance = balance + deposit\n",
        "    print(f'Your deposit {deposit} € has been added to your account. Your current balance is {balance} €.')\n",
        "  else:\n",
        "    print('Enter either \"deposit\" or \"exit\".')"
      ],
      "metadata": {
        "colab": {
          "base_uri": "https://localhost:8080/"
        },
        "id": "BZmHwvplkFrC",
        "outputId": "5967af0f-2d61-4e20-bc65-d7c0b65c5acc"
      },
      "execution_count": null,
      "outputs": [
        {
          "output_type": "stream",
          "name": "stdout",
          "text": [
            "Welcome to The Bank\n",
            "For making a deposit, write \"deposit\". For exiting The Bank, write \"exit\".deposit\n",
            "What is the amount of your deposit? 50\n",
            "Your deposit 50 € has been added to your account. Your current balance is 50 €.\n",
            "For making a deposit, write \"deposit\". For exiting The Bank, write \"exit\".123\n",
            "Enter either \"deposit\" or \"exit\".\n",
            "For making a deposit, write \"deposit\". For exiting The Bank, write \"exit\".deposit\n",
            "What is the amount of your deposit? 150\n",
            "Your deposit 150 € has been added to your account. Your current balance is 200 €.\n",
            "For making a deposit, write \"deposit\". For exiting The Bank, write \"exit\".exti\n",
            "Enter either \"deposit\" or \"exit\".\n",
            "For making a deposit, write \"deposit\". For exiting The Bank, write \"exit\".exit\n",
            "Thank you. Session completed. See you next time.\n"
          ]
        }
      ]
    },
    {
      "cell_type": "code",
      "source": [
        "# Medium with try-except\n",
        "\n",
        "print('Welcome to The Bank')\n",
        "balance =  0\n",
        "\n",
        "while True:\n",
        "  action = input('For making a deposit, write \"deposit\". For exiting The Bank, write \"exit\".')\n",
        "  try:\n",
        "    action = str(action)\n",
        "  except:\n",
        "    action = int(action)\n",
        "    print(f'Wrong values {action} entered. Choose between \"deposit\" or \"exit\".')\n",
        "  else:\n",
        "    if action == \"exit\":\n",
        "      print('Thank you. Session completed. See you next time.')\n",
        "      break\n",
        "    elif action == \"deposit\":\n",
        "      try:\n",
        "        action = str(action)\n",
        "      except:\n",
        "        action = int(action)\n",
        "        print(f'Wrong values {action} entered. Choose between \"deposit\" or \"exit\".')\n",
        "      else:\n",
        "        deposit = int(input('What is the amount of your deposit? '))\n",
        "        try:\n",
        "          deposit = int(deposit)\n",
        "        except:\n",
        "          deposit = str(deposit)\n",
        "          print('Enter a number that represents the amount of your deposit!')\n",
        "        else:\n",
        "          balance = balance + deposit\n",
        "          print(f'Your deposit {deposit} € has been added to your account. Your current balance is {balance} €.')\n",
        "          continue"
      ],
      "metadata": {
        "colab": {
          "base_uri": "https://localhost:8080/",
          "height": 332
        },
        "id": "PMpp2lqCrEdw",
        "outputId": "8c1c2700-666e-4fa6-a484-fda51919b2cc"
      },
      "execution_count": null,
      "outputs": [
        {
          "name": "stdout",
          "output_type": "stream",
          "text": [
            "Welcome to The Bank\n",
            "For making a deposit, write \"deposit\". For exiting The Bank, write \"exit\".deposit\n",
            "What is the amount of your deposit? 20\n",
            "Your deposit 20 € has been added to your account. Your current balance is 20 €.\n",
            "For making a deposit, write \"deposit\". For exiting The Bank, write \"exit\".ahjk\n",
            "For making a deposit, write \"deposit\". For exiting The Bank, write \"exit\".deposit\n",
            "What is the amount of your deposit? dfj\n"
          ]
        },
        {
          "output_type": "error",
          "ename": "ValueError",
          "evalue": "invalid literal for int() with base 10: 'dfj'",
          "traceback": [
            "\u001b[0;31m---------------------------------------------------------------------------\u001b[0m",
            "\u001b[0;31mValueError\u001b[0m                                Traceback (most recent call last)",
            "\u001b[0;32m<ipython-input-11-3e87325d4238>\u001b[0m in \u001b[0;36m<cell line: 6>\u001b[0;34m()\u001b[0m\n\u001b[1;32m     22\u001b[0m         \u001b[0mprint\u001b[0m\u001b[0;34m(\u001b[0m\u001b[0;34mf'Wrong values {action} entered. Choose between \"deposit\" or \"exit\".'\u001b[0m\u001b[0;34m)\u001b[0m\u001b[0;34m\u001b[0m\u001b[0;34m\u001b[0m\u001b[0m\n\u001b[1;32m     23\u001b[0m       \u001b[0;32melse\u001b[0m\u001b[0;34m:\u001b[0m\u001b[0;34m\u001b[0m\u001b[0;34m\u001b[0m\u001b[0m\n\u001b[0;32m---> 24\u001b[0;31m         \u001b[0mdeposit\u001b[0m \u001b[0;34m=\u001b[0m \u001b[0mint\u001b[0m\u001b[0;34m(\u001b[0m\u001b[0minput\u001b[0m\u001b[0;34m(\u001b[0m\u001b[0;34m'What is the amount of your deposit? '\u001b[0m\u001b[0;34m)\u001b[0m\u001b[0;34m)\u001b[0m\u001b[0;34m\u001b[0m\u001b[0;34m\u001b[0m\u001b[0m\n\u001b[0m\u001b[1;32m     25\u001b[0m         \u001b[0;32mtry\u001b[0m\u001b[0;34m:\u001b[0m\u001b[0;34m\u001b[0m\u001b[0;34m\u001b[0m\u001b[0m\n\u001b[1;32m     26\u001b[0m           \u001b[0mdeposit\u001b[0m \u001b[0;34m=\u001b[0m \u001b[0mint\u001b[0m\u001b[0;34m(\u001b[0m\u001b[0mdeposit\u001b[0m\u001b[0;34m)\u001b[0m\u001b[0;34m\u001b[0m\u001b[0;34m\u001b[0m\u001b[0m\n",
            "\u001b[0;31mValueError\u001b[0m: invalid literal for int() with base 10: 'dfj'"
          ]
        }
      ]
    },
    {
      "cell_type": "markdown",
      "source": [
        "### Hard Level\n",
        "**Instructions:**\n",
        "1. Add bank withdrawal (if user wants to withdraw money the balance decreases)\n",
        "2. If the balance becomes negative, withdrawal is not possible.\n",
        "3. Add check balance optionality\n",
        "**Example for hard level:**\n",
        "   1. print(\"\\nWhat would you like to do?\")\n",
        "   2. print(\"1. Deposit money\")\n",
        "   3. print(\"2. Withdraw money\")\n",
        "   4. print(\"3. Check balance\")\n",
        "   5. print(\"4. Exit\")"
      ],
      "metadata": {
        "id": "9CGoGtK26ROe"
      }
    },
    {
      "cell_type": "code",
      "source": [
        "print('Welcome to The Bank')\n",
        "balance =  0\n",
        "\n",
        "actions = {'deposit money' : 1,\n",
        "           'withdraw money' : 2,\n",
        "           'check balance' : 3,\n",
        "           'exit' : 4}\n",
        "\n",
        "while True:\n",
        "  action = input('\\n What would you like to do? Enter \\n 1. Deposit money \\n 2. Withdraw money \\n 3. Check balance \\n 4. Exit \\n')\n",
        "  if action == \"exit\":\n",
        "    print('Thank you. Session completed. See you next time.')\n",
        "    break\n",
        "  elif action == \"deposit money\":\n",
        "    deposit = int(input('What is the amount of your deposit? '))\n",
        "    balance = balance + deposit\n",
        "    print(f'Your deposit {deposit} € has been added to your account. Your current balance is {balance} €.')\n",
        "  elif action == \"withdraw money\":\n",
        "    withdrawal = int(input('How much money would you like to withdraw? '))\n",
        "    if withdrawal > balance:\n",
        "      print(f'It is not currently possible to withdraw {withdrawal} €, as your balance is {balance} €.')\n",
        "    else:\n",
        "      balance = balance - withdrawal\n",
        "      print(f'{withdrawal} € taken from your account. Your remaining balance is {balance} €.')\n",
        "  elif action == \"check balance\":\n",
        "    print(f'You have {balance} € on your account')\n",
        "  else:\n",
        "    print('Enter which action you would like to proceed with.')"
      ],
      "metadata": {
        "colab": {
          "base_uri": "https://localhost:8080/"
        },
        "id": "pwsRaZ7Z6fBR",
        "outputId": "b4caaa28-524f-4748-8cd7-e64c958d7330"
      },
      "execution_count": null,
      "outputs": [
        {
          "output_type": "stream",
          "name": "stdout",
          "text": [
            "Welcome to The Bank\n",
            "\n",
            " What would you like to do: \n",
            " 1. Deposit money \n",
            " 2. Withdraw money \n",
            " 3. Check balance \n",
            " 4. Exit \n",
            "1\n",
            "Enter which action you would like to proceed with\".\n",
            "\n",
            " What would you like to do: \n",
            " 1. Deposit money \n",
            " 2. Withdraw money \n",
            " 3. Check balance \n",
            " 4. Exit \n",
            "deposit money\n",
            "What is the amount of your deposit? 500\n",
            "Your deposit 500 € has been added to your account. Your current balance is 500 €.\n",
            "\n",
            " What would you like to do: \n",
            " 1. Deposit money \n",
            " 2. Withdraw money \n",
            " 3. Check balance \n",
            " 4. Exit \n",
            "withdraw money\n",
            "How much money would you like to withdraw? 30\n",
            "30 € taken from your account. Your remaining balance is 470 €.\n",
            "\n",
            " What would you like to do: \n",
            " 1. Deposit money \n",
            " 2. Withdraw money \n",
            " 3. Check balance \n",
            " 4. Exit \n",
            "withdraw money\n",
            "How much money would you like to withdraw? 480\n",
            "It is not currently possible to withdraw 480 €, as your balance is 470 €.\n",
            "\n",
            " What would you like to do: \n",
            " 1. Deposit money \n",
            " 2. Withdraw money \n",
            " 3. Check balance \n",
            " 4. Exit \n",
            "check balance\n",
            "470\n",
            "\n",
            " What would you like to do: \n",
            " 1. Deposit money \n",
            " 2. Withdraw money \n",
            " 3. Check balance \n",
            " 4. Exit \n",
            "exit\n",
            "Thank you. Session completed. See you next time.\n"
          ]
        }
      ]
    },
    {
      "cell_type": "code",
      "source": [
        "print('Welcome to The Bank')\n",
        "balance =  0\n",
        "\n",
        "actions = {1 : 'Deposit money',\n",
        "           2 : 'Withdraw money',\n",
        "           3 : 'Check balance',\n",
        "           4 : 'Exit'}\n",
        "\n",
        "while True:\n",
        "  action = input('\\n What would you like to do? Enter \\n 1 to Deposit money \\n 2 to Withdraw money \\n 3 to Check balance \\n 4 to Exit \\n')\n",
        "  action = int(action)\n",
        "  if action == 4:\n",
        "    print(actions[4])\n",
        "    print('Thank you. Session completed. See you next time.')\n",
        "    break\n",
        "  elif action == 1:\n",
        "    print(actions[1])\n",
        "    deposit = int(input('What is the amount of your deposit? '))\n",
        "    balance = balance + deposit\n",
        "    print(f'Your deposit {deposit} € has been added to your account. Your current balance is {balance} €.')\n",
        "  elif action == 2:\n",
        "    print(actions[2])\n",
        "    withdrawal = int(input('How much money would you like to withdraw? '))\n",
        "    if withdrawal > balance:\n",
        "      print(f'It is not currently possible to withdraw {withdrawal} €, as your balance is {balance} €.')\n",
        "    else:\n",
        "      balance = balance - withdrawal\n",
        "      print(f'{withdrawal} € taken from your account. Your remaining balance is {balance} €.')\n",
        "  elif action == 3:\n",
        "    print(actions[3])\n",
        "    print(f'You have {balance} € on your account.')\n",
        "  else:\n",
        "    print('Enter which action you would like to proceed with.')"
      ],
      "metadata": {
        "colab": {
          "base_uri": "https://localhost:8080/"
        },
        "id": "e-MD38ueDhQ4",
        "outputId": "778f5b52-d742-4741-917a-b16a72046d8c"
      },
      "execution_count": null,
      "outputs": [
        {
          "output_type": "stream",
          "name": "stdout",
          "text": [
            "Welcome to The Bank\n",
            "\n",
            " What would you like to do? Enter \n",
            " 1 to Deposit money \n",
            " 2 to Withdraw money \n",
            " 3 to Check balance \n",
            " 4 to Exit \n",
            "1\n",
            "Deposit money\n",
            "What is the amount of your deposit? 300\n",
            "Your deposit 300 € has been added to your account. Your current balance is 300 €.\n",
            "\n",
            " What would you like to do? Enter \n",
            " 1 to Deposit money \n",
            " 2 to Withdraw money \n",
            " 3 to Check balance \n",
            " 4 to Exit \n",
            "2\n",
            "Withdraw money\n",
            "How much money would you like to withdraw? 50\n",
            "50 € taken from your account. Your remaining balance is 250 €.\n",
            "\n",
            " What would you like to do? Enter \n",
            " 1 to Deposit money \n",
            " 2 to Withdraw money \n",
            " 3 to Check balance \n",
            " 4 to Exit \n",
            "2\n",
            "Withdraw money\n",
            "How much money would you like to withdraw? 260\n",
            "It is not currently possible to withdraw 260 €, as your balance is 250 €.\n",
            "\n",
            " What would you like to do? Enter \n",
            " 1 to Deposit money \n",
            " 2 to Withdraw money \n",
            " 3 to Check balance \n",
            " 4 to Exit \n",
            "3\n",
            "Check balance\n",
            "You have 250 € on your account\n",
            "\n",
            " What would you like to do? Enter \n",
            " 1 to Deposit money \n",
            " 2 to Withdraw money \n",
            " 3 to Check balance \n",
            " 4 to Exit \n",
            "345\n",
            "Enter which action you would like to proceed with.\n",
            "\n",
            " What would you like to do? Enter \n",
            " 1 to Deposit money \n",
            " 2 to Withdraw money \n",
            " 3 to Check balance \n",
            " 4 to Exit \n",
            "4\n",
            "Exit\n",
            "Thank you. Session completed. See you next time.\n"
          ]
        }
      ]
    }
  ]
}