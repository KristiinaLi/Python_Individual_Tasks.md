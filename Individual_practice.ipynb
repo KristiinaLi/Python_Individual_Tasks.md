{
  "nbformat": 4,
  "nbformat_minor": 0,
  "metadata": {
    "colab": {
      "provenance": [],
      "authorship_tag": "ABX9TyNGKqPy0wykkk0e72Vnente",
      "include_colab_link": true
    },
    "kernelspec": {
      "name": "python3",
      "display_name": "Python 3"
    },
    "language_info": {
      "name": "python"
    }
  },
  "cells": [
    {
      "cell_type": "markdown",
      "metadata": {
        "id": "view-in-github",
        "colab_type": "text"
      },
      "source": [
        "<a href=\"https://colab.research.google.com/github/KristiinaLi/Python_Individual_Tasks.md/blob/main/Individual_practice.ipynb\" target=\"_parent\"><img src=\"https://colab.research.google.com/assets/colab-badge.svg\" alt=\"Open In Colab\"/></a>"
      ]
    },
    {
      "cell_type": "code",
      "execution_count": null,
      "metadata": {
        "id": "JGokTBQHmXsJ"
      },
      "outputs": [],
      "source": []
    },
    {
      "cell_type": "markdown",
      "source": [
        "Declare four variables name, age, height, and is_student.\n",
        "Assign appropriate values to each variable:\n",
        "name: Your name as a string.\n",
        "age: Your age as an integer.\n",
        "height: Your height in meters as a float.\n",
        "is_student: A boolean value indicating whether you are a student or not (True or False).\n",
        "Print out the values of these variables with appropriate labels."
      ],
      "metadata": {
        "id": "xhE5ikg4meyX"
      }
    },
    {
      "cell_type": "code",
      "source": [
        "name = 'Linda'\n",
        "age = 3\n",
        "height = 1.03\n",
        "isStudent = False\n",
        "\n",
        "print(f'Hi, my name is {name}, I am {age} years old and {height} meters tall.')\n",
        "if isStudent == False:\n",
        "  print('I am not a student yet.')\n",
        "else:\n",
        "  print('I am a student')"
      ],
      "metadata": {
        "colab": {
          "base_uri": "https://localhost:8080/"
        },
        "id": "sM3MpAm_mgnc",
        "outputId": "97caab20-22b7-4ec1-e193-234cfeb940e7"
      },
      "execution_count": null,
      "outputs": [
        {
          "output_type": "stream",
          "name": "stdout",
          "text": [
            "Hi, my name is Linda, I am 3 years old and 1.03 meters tall.\n",
            "I am not a student yet.\n"
          ]
        }
      ]
    },
    {
      "cell_type": "markdown",
      "source": [
        "Exercise:\n",
        "\n",
        "Declare three variables num1, num2, and num3.\n",
        "Assign integer values to num1 and num2, and a floating-point value to num3.\n",
        "Calculate the following:\n",
        "The sum of num1 and num2.\n",
        "The difference between num1 and num2.\n",
        "The product of all three numbers.\n",
        "The result of dividing num3 by num1.\n",
        "Print out the results of each calculation with appropriate labels."
      ],
      "metadata": {
        "id": "3ve3cpwpn_wc"
      }
    },
    {
      "cell_type": "code",
      "source": [
        "num1 = 4\n",
        "num2 = 16\n",
        "num3 = 24.8\n",
        "\n",
        "sum1 = num1 + num2\n",
        "difference1 = num2 - num1\n",
        "sum2 = sum1 + num3\n",
        "divide = num3 / num1\n",
        "\n",
        "print(f'The sum of {num1} and {num2} is {sum1}.')\n",
        "print(f'The difference between {num2} and {num1} is {difference1}.')\n",
        "print(f'The sum of all three numbers is {sum2}.')\n",
        "print(f'When we divide {num3} with {num1} we get {divide}.')\n"
      ],
      "metadata": {
        "colab": {
          "base_uri": "https://localhost:8080/"
        },
        "id": "gKPoOMLioBlM",
        "outputId": "6af1e665-d510-4c38-dce5-fd7dfd96c412"
      },
      "execution_count": null,
      "outputs": [
        {
          "output_type": "stream",
          "name": "stdout",
          "text": [
            "The sum of 4 and 16 is 20.\n",
            "The difference between 16 and 4 is 12.\n",
            "The sum of all three numbers is 44.8.\n",
            "When we divide 24.8 with 4 we get 6.2.\n"
          ]
        }
      ]
    },
    {
      "cell_type": "markdown",
      "source": [
        "Exercise:\n",
        "\n",
        "Declare an empty list called numbers.\n",
        "Use a loop to prompt the user to input 5 integer numbers one by one and add each input to the numbers list.\n",
        "Calculate the following:\n",
        "The sum of all the numbers in the list.\n",
        "The average of the numbers in the list.\n",
        "The largest number in the list.\n",
        "The smallest number in the list.\n",
        "Print out the results of each calculation with appropriate labels.\n",
        "Additionally, check if any of the numbers in the list are divisible by 2 and print out those numbers."
      ],
      "metadata": {
        "id": "s54cANe_pUfv"
      }
    },
    {
      "cell_type": "code",
      "source": [
        "# declare an empty list called numbers\n",
        "numbers = []\n",
        "\n",
        "# start a counter from 0\n",
        "# start a for loop, where user input fills the list with 5 integers one by one.\n",
        "for i in range(5):\n",
        "  number = int(input('Add a number to the list: '))\n",
        "  numbers.append(number)\n",
        "\n",
        "# Sort and print the list\n",
        "numbers.sort()\n",
        "print(numbers)\n",
        "\n",
        "# Calculate\n",
        "sum_numbers = sum(numbers)\n",
        "average = sum(numbers) / len(numbers)\n",
        "largest = max(numbers)\n",
        "smallest = min(numbers)\n",
        "\n",
        "# Print the results\n",
        "print(f'The sum of all the elements is {sum_numbers}.')\n",
        "print(f'The average of all the elements is {average}.')\n",
        "print(f'The largest element in the list in {largest}.')\n",
        "print(f'The smallest element in the list in {smallest}.')\n",
        "even_number = [number for number in numbers if number % 2 == 0]\n",
        "if even_number:\n",
        "  print(f'These are even numbers: {even_number}.')\n",
        "else:\n",
        "  print('There are no even numbers on the list.')"
      ],
      "metadata": {
        "colab": {
          "base_uri": "https://localhost:8080/"
        },
        "id": "nIo2NiWRpZ3v",
        "outputId": "a5cdf944-19d5-472b-9f66-e855a474dc57"
      },
      "execution_count": null,
      "outputs": [
        {
          "output_type": "stream",
          "name": "stdout",
          "text": [
            "Add a number to the list: 74\n",
            "Add a number to the list: 23\n",
            "Add a number to the list: 10\n",
            "Add a number to the list: 8\n",
            "Add a number to the list: 2\n",
            "[2, 8, 10, 23, 74]\n",
            "The sum of all the elements is 117.\n",
            "The average of all the elements is 23.4.\n",
            "The largest element in the list in 74.\n",
            "The smallest element in the list in 2.\n",
            "These are even numbers: [2, 8, 10, 74].\n"
          ]
        }
      ]
    },
    {
      "cell_type": "markdown",
      "source": [
        "Exercise: Calculate the Average\n",
        "\n",
        "Write a Python program that calculates the average of a list of numbers provided by the user. Your program should do the following:\n",
        "\n",
        "Prompt the user to enter a list of comma-separated numbers.\n",
        "Split the input string into a list of numbers.\n",
        "Convert each number from string format to integer format.\n",
        "Calculate the average of the numbers.\n",
        "Print the average."
      ],
      "metadata": {
        "id": "P-mtXOTQ0afq"
      }
    },
    {
      "cell_type": "code",
      "source": [
        "# Ask for user input - a list of comma-separated numbers\n",
        "numbers1 = input(\"Enter 5 numbers separated by commas: \")\n",
        "\n",
        "# Split the input string into a list of numbers.\n",
        "number_strings = numbers1.split(',')\n",
        "converted_numbers = []\n",
        "\n",
        "# Convert each number from string format to integer format.\n",
        "for number in number_strings:\n",
        "  converted_number = int(number)\n",
        "  converted_numbers.append(converted_number)\n",
        "print(converted_numbers)\n",
        "\n",
        "# Calculate and print the average of the numbers.\n",
        "total = sum(converted_numbers)\n",
        "average = total / len(converted_numbers)\n",
        "print(average)"
      ],
      "metadata": {
        "colab": {
          "base_uri": "https://localhost:8080/"
        },
        "id": "_SW6yy3S0bV3",
        "outputId": "eca3caae-ee40-424d-e6a3-8bb2729e0871"
      },
      "execution_count": null,
      "outputs": [
        {
          "output_type": "stream",
          "name": "stdout",
          "text": [
            "Enter 5 numbers separated by commas: 10, 2, 4, 7, 15\n",
            "[10, 2, 4, 7, 15]\n",
            "7.6\n"
          ]
        }
      ]
    },
    {
      "cell_type": "markdown",
      "source": [
        "Madlibs"
      ],
      "metadata": {
        "id": "Yyc-5cFE-w0-"
      }
    },
    {
      "cell_type": "code",
      "source": [
        "# String concatenation\n",
        "\n",
        "youtuber = \"Kylie Ying\"\n",
        "\n",
        "print(\"Subscribe to \" + youtuber)\n",
        "print(\"Subscribe to {}\".format(youtuber))\n",
        "print(f'Subscribe to {youtuber}')"
      ],
      "metadata": {
        "colab": {
          "base_uri": "https://localhost:8080/"
        },
        "id": "MyxWlxFg-y8h",
        "outputId": "e5084ecf-c6a8-4fde-b6a9-d1aff50a2832"
      },
      "execution_count": null,
      "outputs": [
        {
          "output_type": "stream",
          "name": "stdout",
          "text": [
            "Subscribe to Kylie Ying\n",
            "Subscribe to Kylie Ying\n",
            "Subscribe to Kylie Ying\n"
          ]
        }
      ]
    },
    {
      "cell_type": "code",
      "source": [
        "adj = input(\"Enter an adjective: \")\n",
        "verb1 = input(\"Enter a verb: \")\n",
        "verb2 = input(\"Enter a verb: \")\n",
        "famous_person = input(\"Enter a famous person: \")\n",
        "\n",
        "madlib = f'Computer programming is so {adj}! It makes me so excited all the \\\n",
        "time because I love to {verb1}. Stay hydrated and {verb2} like you are {famous_person}!'\n",
        "\n",
        "print(madlib)\n"
      ],
      "metadata": {
        "colab": {
          "base_uri": "https://localhost:8080/"
        },
        "id": "axp-CeYoAeFE",
        "outputId": "33cd17a9-8193-476d-ac4f-e1aeeba6ac7f"
      },
      "execution_count": null,
      "outputs": [
        {
          "output_type": "stream",
          "name": "stdout",
          "text": [
            "Enter an adjective: funny\n",
            "Enter a verb: run\n",
            "Enter a verb: eat\n",
            "Enter a famous person: Blake Lively\n",
            "Computer programming is so funny! It makes me so excited all the time because I love to run. Stay hydrated and eat like you are Blake Lively!\n"
          ]
        }
      ]
    },
    {
      "cell_type": "code",
      "source": [
        "# Guessing game - the user is guessing\n",
        "\n",
        "import random\n",
        "\n",
        "def guess(x):\n",
        "  random_number = random.randint(1, x)\n",
        "  guess = 0\n",
        "\n",
        "  while guess != random_number:\n",
        "    guess = int(input(f'Guess a number between 1 and {x}: '))\n",
        "    print(guess)\n",
        "    if guess < random_number:\n",
        "      print('Sorry, guess again, too low.')\n",
        "    elif guess > random_number:\n",
        "      print('Sorry, guess again, too high')\n",
        "\n",
        "  print(f'Yay, congrats. You have guessed the number {random_number} correctly.')\n",
        "\n",
        "guess(100)\n"
      ],
      "metadata": {
        "colab": {
          "base_uri": "https://localhost:8080/"
        },
        "id": "nf1XfEP7DIcG",
        "outputId": "875a572e-2b41-43dc-e627-f4bc7098db1d"
      },
      "execution_count": null,
      "outputs": [
        {
          "output_type": "stream",
          "name": "stdout",
          "text": [
            "Guess a number between 1 and 100: 50\n",
            "50\n",
            "Sorry, guess again, too high\n",
            "Guess a number between 1 and 100: 25\n",
            "25\n",
            "Sorry, guess again, too low.\n",
            "Guess a number between 1 and 100: 30\n",
            "30\n",
            "Sorry, guess again, too low.\n",
            "Guess a number between 1 and 100: 40\n",
            "40\n",
            "Yay, congrats. You have guessed the number 40 correctly.\n"
          ]
        }
      ]
    },
    {
      "cell_type": "code",
      "source": [
        "# Guessing game - computer is guessing\n",
        "\n",
        "import random\n",
        "\n",
        "def computer_guess(x):\n",
        "  low = 1\n",
        "  high = x\n",
        "  feedback = ''\n",
        "  while feedback != 'c':\n",
        "    if low != high:\n",
        "        guess = random.randint(low, high)\n",
        "    else:\n",
        "      guess = low # could also be high\n",
        "    feedback = input(f'Is {guess} too high (H), too low (L), or correct (C)??').lower()\n",
        "    if feedback == 'h':\n",
        "      high = guess - 1\n",
        "    elif feedback == 'l':\n",
        "      low = guess + 1\n",
        "\n",
        "  print(f'Yay! The computer guessed your number, {guess}, correctly!')\n",
        "\n",
        "computer_guess(1000)"
      ],
      "metadata": {
        "colab": {
          "base_uri": "https://localhost:8080/"
        },
        "id": "tTP9noPGM7Rc",
        "outputId": "0f0b6cdb-7a3e-49fa-ef03-f1392251a08f"
      },
      "execution_count": null,
      "outputs": [
        {
          "output_type": "stream",
          "name": "stdout",
          "text": [
            "Is 757 too high (H), too low (L), or correct (C)??h\n",
            "Is 128 too high (H), too low (L), or correct (C)??l\n",
            "Is 693 too high (H), too low (L), or correct (C)??h\n",
            "Is 394 too high (H), too low (L), or correct (C)??l\n",
            "Is 559 too high (H), too low (L), or correct (C)??h\n",
            "Is 454 too high (H), too low (L), or correct (C)??l\n",
            "Is 548 too high (H), too low (L), or correct (C)??l\n",
            "Is 554 too high (H), too low (L), or correct (C)??l\n",
            "Is 558 too high (H), too low (L), or correct (C)??h\n",
            "Is 557 too high (H), too low (L), or correct (C)??h\n",
            "Is 555 too high (H), too low (L), or correct (C)??c\n",
            "Yay! The computer guessed your number, 555, correctly!\n"
          ]
        }
      ]
    }
  ]
}