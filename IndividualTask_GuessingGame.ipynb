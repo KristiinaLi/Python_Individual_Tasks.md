{
  "nbformat": 4,
  "nbformat_minor": 0,
  "metadata": {
    "colab": {
      "provenance": [],
      "authorship_tag": "ABX9TyNY4FkBTlt7EJ+X2dGKyS3n",
      "include_colab_link": true
    },
    "kernelspec": {
      "name": "python3",
      "display_name": "Python 3"
    },
    "language_info": {
      "name": "python"
    }
  },
  "cells": [
    {
      "cell_type": "markdown",
      "metadata": {
        "id": "view-in-github",
        "colab_type": "text"
      },
      "source": [
        "<a href=\"https://colab.research.google.com/github/KristiinaLi/Python_Individual_Tasks.md/blob/main/IndividualTask_GuessingGame.ipynb\" target=\"_parent\"><img src=\"https://colab.research.google.com/assets/colab-badge.svg\" alt=\"Open In Colab\"/></a>"
      ]
    },
    {
      "cell_type": "code",
      "execution_count": null,
      "metadata": {
        "colab": {
          "base_uri": "https://localhost:8080/"
        },
        "id": "35RtXVazHtcl",
        "outputId": "2a17d361-3af1-400c-bca1-e1817551caa5"
      },
      "outputs": [
        {
          "output_type": "stream",
          "name": "stdout",
          "text": [
            "Is 915 too high (H), too low (L), or correct (C)??h\n",
            "Is 788 too high (H), too low (L), or correct (C)??h\n",
            "Is 379 too high (H), too low (L), or correct (C)??l\n",
            "Is 413 too high (H), too low (L), or correct (C)??l\n",
            "Is 584 too high (H), too low (L), or correct (C)??h\n",
            "Is 544 too high (H), too low (L), or correct (C)??l\n",
            "Is 553 too high (H), too low (L), or correct (C)??l\n",
            "Is 580 too high (H), too low (L), or correct (C)??h\n",
            "Is 566 too high (H), too low (L), or correct (C)??h\n",
            "Is 562 too high (H), too low (L), or correct (C)??h\n",
            "Is 561 too high (H), too low (L), or correct (C)??h\n",
            "Is 558 too high (H), too low (L), or correct (C)??h\n",
            "Is 555 too high (H), too low (L), or correct (C)??c\n",
            "Yay! The computer guessed your number, 555, correctly!\n"
          ]
        }
      ],
      "source": [
        "# Guessing game\n",
        "\n",
        "import random\n",
        "\n",
        "def computer_guess(x):\n",
        "  low = 1\n",
        "  high = x\n",
        "  feedback = ''\n",
        "  while feedback != 'c':\n",
        "    if low != high:\n",
        "        guess = random.randint(low, high)\n",
        "    else:\n",
        "      guess = low # could also be high\n",
        "    feedback = input(f'Is {guess} too high (H), too low (L), or correct (C)??').lower()\n",
        "    if feedback == 'h':\n",
        "      high = guess - 1\n",
        "    elif feedback == 'l':\n",
        "      low = guess + 1\n",
        "\n",
        "  print(f'Yay! The computer guessed your number, {guess}, correctly!')\n",
        "\n",
        "computer_guess(1000)"
      ]
    }
  ]
}